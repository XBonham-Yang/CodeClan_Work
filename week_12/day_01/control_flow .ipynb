{
 "cells": [
  {
   "cell_type": "code",
   "execution_count": 1,
   "id": "59318dc8",
   "metadata": {},
   "outputs": [],
   "source": [
    "temperature = 28\n"
   ]
  },
  {
   "cell_type": "code",
   "execution_count": 3,
   "id": "baa88b01",
   "metadata": {},
   "outputs": [
    {
     "name": "stdout",
     "output_type": "stream",
     "text": [
      "hot hot hot\n"
     ]
    }
   ],
   "source": [
    "if temperature > 20:\n",
    "    print('hot hot hot')"
   ]
  },
  {
   "cell_type": "code",
   "execution_count": 5,
   "id": "f2d9c6cd",
   "metadata": {},
   "outputs": [
    {
     "name": "stdout",
     "output_type": "stream",
     "text": [
      "perfect\n"
     ]
    }
   ],
   "source": [
    "temperature = 16\n",
    "\n",
    "if temperature > 20:\n",
    "    print(\"hot hot hot\")\n",
    "elif temperature < 10:\n",
    "    print('okay, cold')\n",
    "else:\n",
    "    print('perfect')"
   ]
  },
  {
   "cell_type": "code",
   "execution_count": 6,
   "id": "dd670cb9",
   "metadata": {},
   "outputs": [
    {
     "name": "stdout",
     "output_type": "stream",
     "text": [
      "2\n",
      "4\n",
      "6\n",
      "8\n"
     ]
    }
   ],
   "source": [
    "numbers = [1,2,3,4]\n",
    "for number in numbers:\n",
    "    print(number * 2)"
   ]
  },
  {
   "cell_type": "code",
   "execution_count": 7,
   "id": "a68a93cd",
   "metadata": {},
   "outputs": [
    {
     "name": "stdout",
     "output_type": "stream",
     "text": [
      "Del\n",
      "63\n",
      "['English', 'Puns']\n"
     ]
    }
   ],
   "source": [
    "person = {\n",
    "    \"name\":\"Del\",\n",
    "    \"age\":63,\n",
    "    \"language\":['English', 'Puns']\n",
    "}\n",
    "\n",
    "for value in person.values():\n",
    "    print(value)\n"
   ]
  },
  {
   "cell_type": "code",
   "execution_count": 16,
   "id": "febb9bcc",
   "metadata": {},
   "outputs": [],
   "source": [
    "numbers = [1, 6, 2, 2, 7, 1, 6, 13, 99, 7]"
   ]
  },
  {
   "cell_type": "code",
   "execution_count": 17,
   "id": "94306e74",
   "metadata": {},
   "outputs": [],
   "source": [
    "even_numbers = []"
   ]
  },
  {
   "cell_type": "code",
   "execution_count": 18,
   "id": "054ac334",
   "metadata": {},
   "outputs": [
    {
     "name": "stdout",
     "output_type": "stream",
     "text": [
      "[6, 2, 2, 6]\n"
     ]
    }
   ],
   "source": [
    "for n in numbers :\n",
    "    if n % 2 == 0:\n",
    "        even_numbers.append(n)\n",
    "print(even_numbers)"
   ]
  },
  {
   "cell_type": "code",
   "execution_count": 20,
   "id": "077c40d0",
   "metadata": {},
   "outputs": [],
   "source": [
    "numbers = [1,2,3,4]\n",
    "number_sq = []"
   ]
  },
  {
   "cell_type": "code",
   "execution_count": 21,
   "id": "bd7101c0",
   "metadata": {},
   "outputs": [
    {
     "data": {
      "text/plain": [
       "[1, 4, 9, 16]"
      ]
     },
     "execution_count": 21,
     "metadata": {},
     "output_type": "execute_result"
    }
   ],
   "source": [
    "for number in numbers:\n",
    "    number_sq.append(number*number)\n",
    "number_sq"
   ]
  },
  {
   "cell_type": "code",
   "execution_count": 23,
   "id": "2b230e72",
   "metadata": {},
   "outputs": [
    {
     "data": {
      "text/plain": [
       "[1, 4, 9, 16]"
      ]
     },
     "execution_count": 23,
     "metadata": {},
     "output_type": "execute_result"
    }
   ],
   "source": [
    "number_sq = [number* number for number in numbers]\n",
    "number_sq"
   ]
  },
  {
   "cell_type": "code",
   "execution_count": 24,
   "id": "feeeda19",
   "metadata": {},
   "outputs": [
    {
     "data": {
      "text/plain": [
       "[0, 12, 24, 36, 48, 60, 72, 84, 96]"
      ]
     },
     "execution_count": 24,
     "metadata": {},
     "output_type": "execute_result"
    }
   ],
   "source": [
    "multiples_of_12 = []\n",
    "\n",
    "for number in range(101):\n",
    "    if number % 12 == 0:\n",
    "        multiples_of_12.append(number)\n",
    "multiples_of_12"
   ]
  },
  {
   "cell_type": "code",
   "execution_count": 25,
   "id": "90f0cc2c",
   "metadata": {},
   "outputs": [
    {
     "data": {
      "text/plain": [
       "[0, 12, 24, 36, 48, 60, 72, 84, 96]"
      ]
     },
     "execution_count": 25,
     "metadata": {},
     "output_type": "execute_result"
    }
   ],
   "source": [
    "[number for number in range(101) if number % 12 == 0]"
   ]
  },
  {
   "cell_type": "code",
   "execution_count": 27,
   "id": "02ce175c",
   "metadata": {},
   "outputs": [
    {
     "data": {
      "text/plain": [
       "{'apple': 5, 'orange': 6, 'lemon': 5}"
      ]
     },
     "execution_count": 27,
     "metadata": {},
     "output_type": "execute_result"
    }
   ],
   "source": [
    "words = [\"apple\",\"orange\", \"lemon\"]\n",
    "length_of_word = {word: len(word) for word in words}\n",
    "length_of_word"
   ]
  },
  {
   "cell_type": "markdown",
   "id": "c2616d97",
   "metadata": {},
   "source": [
    "#first loop\n",
    "primes = []\n",
    "for i in range(2, 100):\n",
    "    if i % 2 != 0 and i % 3 != 0 and i % 5 != 0 and i % 7 !=0 and i % 11 != 0:\n",
    "        primes.append(i)\n",
    "\n",
    "#second loop\n",
    "ordinal_dict = {}\n",
    "\n",
    "for number in range(4, 11):\n",
    "    ordinal_dict[number] = str(number) + 'th'"
   ]
  },
  {
   "cell_type": "code",
   "execution_count": 30,
   "id": "0d565368",
   "metadata": {},
   "outputs": [
    {
     "data": {
      "text/plain": [
       "[13,\n",
       " 17,\n",
       " 19,\n",
       " 23,\n",
       " 29,\n",
       " 31,\n",
       " 37,\n",
       " 41,\n",
       " 43,\n",
       " 47,\n",
       " 53,\n",
       " 59,\n",
       " 61,\n",
       " 67,\n",
       " 71,\n",
       " 73,\n",
       " 79,\n",
       " 83,\n",
       " 89,\n",
       " 97]"
      ]
     },
     "execution_count": 30,
     "metadata": {},
     "output_type": "execute_result"
    }
   ],
   "source": [
    "[i for i in range(2, 100)  if i % 2 != 0 and i % 3 != 0 and i % 5 != 0 and i % 7 !=0 and i % 11 != 0 ]"
   ]
  },
  {
   "cell_type": "markdown",
   "id": "e42daea7",
   "metadata": {},
   "source": [
    "#second loop\n",
    "ordinal_dict = {}\n",
    "\n",
    "for number in range(4, 11):\n",
    "    ordinal_dict[number] = str(number) + 'th'"
   ]
  },
  {
   "cell_type": "code",
   "execution_count": 31,
   "id": "cb0de18c",
   "metadata": {},
   "outputs": [
    {
     "data": {
      "text/plain": [
       "{4: '4th', 5: '5th', 6: '6th', 7: '7th', 8: '8th', 9: '9th', 10: '10th'}"
      ]
     },
     "execution_count": 31,
     "metadata": {},
     "output_type": "execute_result"
    }
   ],
   "source": [
    "{i : str(i) + 'th' for i in range(4,11)}"
   ]
  },
  {
   "cell_type": "markdown",
   "id": "dfc38aba",
   "metadata": {},
   "source": [
    "# functions"
   ]
  },
  {
   "cell_type": "code",
   "execution_count": 33,
   "id": "005dd166",
   "metadata": {},
   "outputs": [],
   "source": [
    "def greet():\n",
    "    print(\"hey\")"
   ]
  },
  {
   "cell_type": "code",
   "execution_count": null,
   "id": "7ddf330e",
   "metadata": {},
   "outputs": [],
   "source": []
  },
  {
   "cell_type": "code",
   "execution_count": 35,
   "id": "e7c3e382",
   "metadata": {},
   "outputs": [],
   "source": [
    "def greet():\n",
    "    return \"Hey!\""
   ]
  },
  {
   "cell_type": "code",
   "execution_count": 36,
   "id": "0f722493",
   "metadata": {},
   "outputs": [
    {
     "data": {
      "text/plain": [
       "'Hey!'"
      ]
     },
     "execution_count": 36,
     "metadata": {},
     "output_type": "execute_result"
    }
   ],
   "source": [
    "greet()"
   ]
  },
  {
   "cell_type": "code",
   "execution_count": 40,
   "id": "17438ac1",
   "metadata": {},
   "outputs": [],
   "source": [
    "def greet(name):\n",
    "    return \"Hey \" + name"
   ]
  },
  {
   "cell_type": "code",
   "execution_count": 41,
   "id": "4be81cdd",
   "metadata": {},
   "outputs": [
    {
     "data": {
      "text/plain": [
       "'Hey Colin'"
      ]
     },
     "execution_count": 41,
     "metadata": {},
     "output_type": "execute_result"
    }
   ],
   "source": [
    "greet(\"Colin\")"
   ]
  },
  {
   "cell_type": "code",
   "execution_count": 42,
   "id": "57c76f66",
   "metadata": {},
   "outputs": [],
   "source": [
    "def greet(name, time_of_day):\n",
    "    return \"Good \" + time_of_day + \", \" + name"
   ]
  },
  {
   "cell_type": "code",
   "execution_count": 43,
   "id": "bb453fd0",
   "metadata": {},
   "outputs": [
    {
     "data": {
      "text/plain": [
       "'Good Morning, Colin'"
      ]
     },
     "execution_count": 43,
     "metadata": {},
     "output_type": "execute_result"
    }
   ],
   "source": [
    "greet(\"Colin\", \"Morning\")"
   ]
  },
  {
   "cell_type": "code",
   "execution_count": 44,
   "id": "cf7a604f",
   "metadata": {},
   "outputs": [],
   "source": [
    "def mean(x,y):\n",
    "    return (x + y)/2"
   ]
  },
  {
   "cell_type": "code",
   "execution_count": 45,
   "id": "745cad47",
   "metadata": {},
   "outputs": [
    {
     "data": {
      "text/plain": [
       "5.0"
      ]
     },
     "execution_count": 45,
     "metadata": {},
     "output_type": "execute_result"
    }
   ],
   "source": [
    "mean(4,6)"
   ]
  },
  {
   "cell_type": "code",
   "execution_count": 46,
   "id": "b6373e31",
   "metadata": {},
   "outputs": [],
   "source": [
    "def is_even(number):\n",
    "\tif(number % 2 == 0):\n",
    "\t\treturn True\n",
    "\telse:\n",
    "\t\treturn False\n",
    "\n",
    "def sum_of_even_numbers(numbers):\n",
    "\trunning_total = 0\n",
    "\tfor number in numbers:\n",
    "\t\tif(is_even(number)):\n",
    "\t\t\trunning_total += number\n",
    "\treturn running_total"
   ]
  },
  {
   "cell_type": "code",
   "execution_count": 47,
   "id": "a2029529",
   "metadata": {},
   "outputs": [
    {
     "data": {
      "text/plain": [
       "False"
      ]
     },
     "execution_count": 47,
     "metadata": {},
     "output_type": "execute_result"
    }
   ],
   "source": [
    "is_even(5)"
   ]
  },
  {
   "cell_type": "code",
   "execution_count": 48,
   "id": "acaa072a",
   "metadata": {},
   "outputs": [
    {
     "data": {
      "text/plain": [
       "6"
      ]
     },
     "execution_count": 48,
     "metadata": {},
     "output_type": "execute_result"
    }
   ],
   "source": [
    "sum_of_even_numbers([1,2,3,4])"
   ]
  },
  {
   "cell_type": "code",
   "execution_count": 52,
   "id": "13d77370",
   "metadata": {},
   "outputs": [],
   "source": [
    "def square(number):\n",
    "    return number ** 2\n",
    "\n",
    "def modfify(number, modiferier_function):\n",
    "    return modiferier_function(number)\n",
    "\n"
   ]
  },
  {
   "cell_type": "code",
   "execution_count": 53,
   "id": "77ab93b3",
   "metadata": {},
   "outputs": [
    {
     "data": {
      "text/plain": [
       "9"
      ]
     },
     "execution_count": 53,
     "metadata": {},
     "output_type": "execute_result"
    }
   ],
   "source": [
    "modfify(3, square)"
   ]
  },
  {
   "cell_type": "code",
   "execution_count": 54,
   "id": "191f0383",
   "metadata": {},
   "outputs": [
    {
     "data": {
      "text/plain": [
       "'£5'"
      ]
     },
     "execution_count": 54,
     "metadata": {},
     "output_type": "execute_result"
    }
   ],
   "source": [
    "def make_price(price):\n",
    "    return \"£\" + str(price)\n",
    "make_price(5)"
   ]
  },
  {
   "cell_type": "markdown",
   "id": "519e3014",
   "metadata": {},
   "source": [
    "# Numpy"
   ]
  },
  {
   "cell_type": "code",
   "execution_count": 55,
   "id": "1cdcd0df",
   "metadata": {},
   "outputs": [],
   "source": [
    "import numpy as np"
   ]
  },
  {
   "cell_type": "code",
   "execution_count": 57,
   "id": "28d8e6f1",
   "metadata": {},
   "outputs": [
    {
     "name": "stdout",
     "output_type": "stream",
     "text": [
      "[1 2 3]\n"
     ]
    }
   ],
   "source": [
    "my_array = np.array([1,2,3])\n",
    "\n",
    "print(my_array)"
   ]
  },
  {
   "cell_type": "code",
   "execution_count": 58,
   "id": "384be365",
   "metadata": {},
   "outputs": [
    {
     "name": "stdout",
     "output_type": "stream",
     "text": [
      "[[1 2 3]\n",
      " [4 5 6]]\n"
     ]
    }
   ],
   "source": [
    "my_2d_array = np.array([[1,2,3], [4,5,6]])\n",
    "print(my_2d_array)"
   ]
  },
  {
   "cell_type": "code",
   "execution_count": 59,
   "id": "ac836a2e",
   "metadata": {},
   "outputs": [
    {
     "data": {
      "text/plain": [
       "1"
      ]
     },
     "execution_count": 59,
     "metadata": {},
     "output_type": "execute_result"
    }
   ],
   "source": [
    "my_array[0]"
   ]
  },
  {
   "cell_type": "code",
   "execution_count": 60,
   "id": "a3ce6393",
   "metadata": {},
   "outputs": [
    {
     "data": {
      "text/plain": [
       "5"
      ]
     },
     "execution_count": 60,
     "metadata": {},
     "output_type": "execute_result"
    }
   ],
   "source": [
    "my_2d_array[1,1]"
   ]
  },
  {
   "cell_type": "markdown",
   "id": "c20849f8",
   "metadata": {},
   "source": [
    "# Pandas"
   ]
  },
  {
   "cell_type": "code",
   "execution_count": 61,
   "id": "9f23465f",
   "metadata": {},
   "outputs": [],
   "source": [
    "import pandas as pd"
   ]
  },
  {
   "cell_type": "code",
   "execution_count": null,
   "id": "1872beb3",
   "metadata": {},
   "outputs": [],
   "source": []
  },
  {
   "cell_type": "code",
   "execution_count": null,
   "id": "b98cfc1c",
   "metadata": {},
   "outputs": [],
   "source": []
  },
  {
   "cell_type": "code",
   "execution_count": null,
   "id": "7b12e3b6",
   "metadata": {},
   "outputs": [],
   "source": []
  },
  {
   "cell_type": "code",
   "execution_count": null,
   "id": "029560f8",
   "metadata": {},
   "outputs": [],
   "source": []
  },
  {
   "cell_type": "code",
   "execution_count": null,
   "id": "131b436d",
   "metadata": {},
   "outputs": [],
   "source": []
  },
  {
   "cell_type": "code",
   "execution_count": null,
   "id": "09ed5372",
   "metadata": {},
   "outputs": [],
   "source": []
  },
  {
   "cell_type": "code",
   "execution_count": null,
   "id": "2d89f5c7",
   "metadata": {},
   "outputs": [],
   "source": []
  },
  {
   "cell_type": "code",
   "execution_count": null,
   "id": "cf2e317b",
   "metadata": {},
   "outputs": [],
   "source": []
  },
  {
   "cell_type": "code",
   "execution_count": null,
   "id": "a37010da",
   "metadata": {},
   "outputs": [],
   "source": []
  },
  {
   "cell_type": "code",
   "execution_count": null,
   "id": "9f1e34b9",
   "metadata": {},
   "outputs": [],
   "source": []
  }
 ],
 "metadata": {
  "kernelspec": {
   "display_name": "Python 3 (ipykernel)",
   "language": "python",
   "name": "python3"
  },
  "language_info": {
   "codemirror_mode": {
    "name": "ipython",
    "version": 3
   },
   "file_extension": ".py",
   "mimetype": "text/x-python",
   "name": "python",
   "nbconvert_exporter": "python",
   "pygments_lexer": "ipython3",
   "version": "3.9.12"
  },
  "varInspector": {
   "cols": {
    "lenName": 16,
    "lenType": 16,
    "lenVar": 40
   },
   "kernels_config": {
    "python": {
     "delete_cmd_postfix": "",
     "delete_cmd_prefix": "del ",
     "library": "var_list.py",
     "varRefreshCmd": "print(var_dic_list())"
    },
    "r": {
     "delete_cmd_postfix": ") ",
     "delete_cmd_prefix": "rm(",
     "library": "var_list.r",
     "varRefreshCmd": "cat(var_dic_list()) "
    }
   },
   "types_to_exclude": [
    "module",
    "function",
    "builtin_function_or_method",
    "instance",
    "_Feature"
   ],
   "window_display": false
  }
 },
 "nbformat": 4,
 "nbformat_minor": 5
}
